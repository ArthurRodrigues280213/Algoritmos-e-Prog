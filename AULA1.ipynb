{
  "nbformat": 4,
  "nbformat_minor": 0,
  "metadata": {
    "colab": {
      "provenance": [],
      "authorship_tag": "ABX9TyNWGvJ20Nwt41e6pMyl+uBP",
      "include_colab_link": true
    },
    "kernelspec": {
      "name": "python3",
      "display_name": "Python 3"
    },
    "language_info": {
      "name": "python"
    }
  },
  "cells": [
    {
      "cell_type": "markdown",
      "metadata": {
        "id": "view-in-github",
        "colab_type": "text"
      },
      "source": [
        "<a href=\"https://colab.research.google.com/github/ArthurRodrigues280213/Algoritmos-e-Prog/blob/main/AULA1.ipynb\" target=\"_parent\"><img src=\"https://colab.research.google.com/assets/colab-badge.svg\" alt=\"Open In Colab\"/></a>"
      ]
    },
    {
      "cell_type": "code",
      "source": [
        "#Importância dos tipos de variaveis\n",
        "a = 2\n",
        "print(type(a))\n",
        "b = 7.4\n",
        "print(type(b))\n",
        "c = a+b\n",
        "print(type(c))\n",
        "print(c)"
      ],
      "metadata": {
        "colab": {
          "base_uri": "https://localhost:8080/"
        },
        "id": "CERd_02oEXfM",
        "outputId": "f3fe3260-bed0-4190-d9d1-dca43c7388b6"
      },
      "execution_count": 23,
      "outputs": [
        {
          "output_type": "stream",
          "name": "stdout",
          "text": [
            "<class 'int'>\n",
            "<class 'float'>\n",
            "<class 'float'>\n",
            "9.4\n"
          ]
        }
      ]
    },
    {
      "cell_type": "markdown",
      "source": [],
      "metadata": {
        "id": "HX-eXQ2EFh-8"
      }
    },
    {
      "cell_type": "code",
      "source": [
        "a = int(input(\"Digite o valor de A\"))\n",
        "b = int(input(\"Digite o valor de B\"))\n",
        "resultado = (a*b)\n",
        "print(resultado)"
      ],
      "metadata": {
        "colab": {
          "base_uri": "https://localhost:8080/"
        },
        "id": "ozBF8i-I-skv",
        "outputId": "11d6539c-9930-4ac4-cc1a-298d3ce88ee6"
      },
      "execution_count": null,
      "outputs": [
        {
          "output_type": "stream",
          "name": "stdout",
          "text": [
            "Digite o valor de A12\n",
            "Digite o valor de B5\n",
            "60\n"
          ]
        }
      ]
    },
    {
      "cell_type": "code",
      "source": [],
      "metadata": {
        "id": "n_RHberMKJI2"
      },
      "execution_count": null,
      "outputs": []
    },
    {
      "cell_type": "code",
      "source": [
        "num = float(input(\"Digite um valor inteiro:\"))\n",
        "print(type(num))\n",
        "quoc = num//2\n",
        "resto = num%2\n",
        "print(quoc)\n",
        "print(resto)"
      ],
      "metadata": {
        "colab": {
          "base_uri": "https://localhost:8080/"
        },
        "id": "PFC7P_B4JIgl",
        "outputId": "8b697cf0-49af-4ce3-981e-847b0659eefb"
      },
      "execution_count": 28,
      "outputs": [
        {
          "output_type": "stream",
          "name": "stdout",
          "text": [
            "Digite um valor inteiro:55\n",
            "<class 'float'>\n",
            "27.0\n",
            "1.0\n"
          ]
        }
      ]
    },
    {
      "cell_type": "code",
      "source": [
        "v1 =float(input(\"Digite um valor1:\"))\n",
        "v2 =float(input(\"Digite um valor2:\"))\n",
        "media = (v1+v2)/2\n",
        "print(media)\n"
      ],
      "metadata": {
        "id": "cwa70tfCLTGU"
      },
      "execution_count": null,
      "outputs": []
    },
    {
      "cell_type": "code",
      "source": [
        "base = float(input(\"Digite o valor da base:\"))\n",
        "altura = float(input(\"Digite o valor da altura:\"))\n",
        "area = (base*altura)/2\n",
        "print(area)"
      ],
      "metadata": {
        "colab": {
          "base_uri": "https://localhost:8080/"
        },
        "id": "u10g8YVrLnA0",
        "outputId": "694b5b69-4607-419c-f30e-9b4874ffd893"
      },
      "execution_count": 29,
      "outputs": [
        {
          "output_type": "stream",
          "name": "stdout",
          "text": [
            "Digite o valor da base:16\n",
            "Digite o valor da altura:2\n",
            "16.0\n"
          ]
        }
      ]
    }
  ]
}