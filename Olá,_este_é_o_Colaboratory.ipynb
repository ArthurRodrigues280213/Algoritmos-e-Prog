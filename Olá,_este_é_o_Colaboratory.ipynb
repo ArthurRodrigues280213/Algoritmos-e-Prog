{
  "cells": [
    {
      "cell_type": "markdown",
      "metadata": {
        "id": "view-in-github",
        "colab_type": "text"
      },
      "source": [
        "<a href=\"https://colab.research.google.com/github/ArthurRodrigues280213/Algoritmos-e-Prog/blob/main/Ol%C3%A1%2C_este_%C3%A9_o_Colaboratory.ipynb\" target=\"_parent\"><img src=\"https://colab.research.google.com/assets/colab-badge.svg\" alt=\"Open In Colab\"/></a>"
      ]
    },
    {
      "cell_type": "markdown",
      "source": [
        "EXERCÍCIO AULA 2 POLEGAS EM MM"
      ],
      "metadata": {
        "id": "iUMkHWhm_T7m"
      }
    },
    {
      "cell_type": "code",
      "source": [
        "P=float(input(\"Digite o valor em Polegadas \"))\n",
        "mm=float\n",
        "Calcularmm=25.4*P\n",
        "print(\"Seu valor em mm=\",Calcularmm)"
      ],
      "metadata": {
        "colab": {
          "base_uri": "https://localhost:8080/"
        },
        "id": "QnQynFsc-Mku",
        "outputId": "39503867-0b39-4de6-c191-784be5d6eb84"
      },
      "execution_count": 56,
      "outputs": [
        {
          "output_type": "stream",
          "name": "stdout",
          "text": [
            "Digite o valor em Polegadas 2\n",
            "Seu valor em mm= 50.8\n"
          ]
        }
      ]
    },
    {
      "cell_type": "markdown",
      "source": [
        "ESFERA/VOLUME\n"
      ],
      "metadata": {
        "id": "Mdklw3rk_jBY"
      }
    },
    {
      "cell_type": "markdown",
      "source": [
        "NARRATIVA\n",
        "\n",
        "\n",
        "\n",
        "LER VALOR FORNECIDO PELO USUARIO\n",
        "CALCULAR V =(4/3)*PI*R^3\n",
        "\n",
        "EXIBIR VOLUME"
      ],
      "metadata": {
        "id": "f9Es4bViE40G"
      }
    },
    {
      "cell_type": "markdown",
      "source": [
        "PSEUDOCÓDIGO"
      ],
      "metadata": {
        "id": "n6IJAgm0FfEj"
      }
    },
    {
      "cell_type": "code",
      "source": [
        "from math import pi\n",
        "R=float(input(\"Digite o valor do raio em cm \"))\n",
        "v=4/3*pi*R**3\n",
        "print(\"O volume da esfera é \",v,\"cm\")"
      ],
      "metadata": {
        "colab": {
          "base_uri": "https://localhost:8080/"
        },
        "id": "qMDSBYHC_pn_",
        "outputId": "cfbf6808-a407-4474-a196-50143772a0d2"
      },
      "execution_count": 22,
      "outputs": [
        {
          "output_type": "stream",
          "name": "stdout",
          "text": [
            "Digite o valor do raio em cm 3\n",
            "O volume da esfera é  113.09733552923254 cm\n"
          ]
        }
      ]
    },
    {
      "cell_type": "markdown",
      "source": [
        "ANGULOS EM GRAUS PARA RADIANOS\n"
      ],
      "metadata": {
        "id": "ZCIz8dGpBKuc"
      }
    },
    {
      "cell_type": "code",
      "source": [
        "from math import pi\n",
        "ANG=float(input(\"Digite o Ângulo em graus \"))\n",
        "R=ANG*pi/180\n",
        "print(\"O ângulo em radianos é \",R)"
      ],
      "metadata": {
        "colab": {
          "base_uri": "https://localhost:8080/"
        },
        "id": "CgPXQMiJBM_a",
        "outputId": "32c65388-6517-4045-b788-81355b8acdd6"
      },
      "execution_count": 15,
      "outputs": [
        {
          "output_type": "stream",
          "name": "stdout",
          "text": [
            "Digite o Ângulo em graus 40\n",
            "O ângulo em radianos é  0.6977777777777778\n"
          ]
        }
      ]
    },
    {
      "cell_type": "markdown",
      "source": [
        "RADIANOS PARA GRAUS"
      ],
      "metadata": {
        "id": "OaXZXsRnCbLN"
      }
    },
    {
      "cell_type": "code",
      "source": [
        "from math import pi\n",
        "RAD=float(input(\"Digite o Ângulo em radianos \"))\n",
        "G=RAD*180/pi\n",
        "print(\"O ângulo em graus é \",G)\n"
      ],
      "metadata": {
        "colab": {
          "base_uri": "https://localhost:8080/"
        },
        "id": "-vtwEro1CjQt",
        "outputId": "9351f4d8-a8bd-4b06-9ee9-cf7a243ba2ae"
      },
      "execution_count": 16,
      "outputs": [
        {
          "output_type": "stream",
          "name": "stdout",
          "text": [
            "Digite o Ângulo em radianos 0.69777\n",
            "O ângulo em graus é  39.99955414012739\n"
          ]
        }
      ]
    },
    {
      "cell_type": "markdown",
      "source": [
        "RADIANOS PARA GRADOS\n"
      ],
      "metadata": {
        "id": "MSw2xw8eF6iG"
      }
    },
    {
      "cell_type": "code",
      "source": [
        "from math import pi\n",
        "RAD=float(input(\"Digite o Ângulo em radianos \"))\n",
        "GRAD=RAD*200/pi\n",
        "print(\"O ângulo em grados é \",GRAD)"
      ],
      "metadata": {
        "colab": {
          "base_uri": "https://localhost:8080/"
        },
        "id": "lpERpu6OC3Kv",
        "outputId": "e3721aa0-6c69-4127-f381-9f1ab54793cd"
      },
      "execution_count": 21,
      "outputs": [
        {
          "output_type": "stream",
          "name": "stdout",
          "text": [
            "Digite o Ângulo em radianos 1\n",
            "O ângulo em grados é  63.66197723675813\n"
          ]
        }
      ]
    }
  ],
  "metadata": {
    "colab": {
      "name": "Olá, este é o Colaboratory",
      "toc_visible": true,
      "provenance": [],
      "include_colab_link": true
    },
    "kernelspec": {
      "display_name": "Python 3",
      "name": "python3"
    }
  },
  "nbformat": 4,
  "nbformat_minor": 0
}