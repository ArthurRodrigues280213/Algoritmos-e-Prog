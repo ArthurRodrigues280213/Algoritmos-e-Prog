{
  "cells": [
    {
      "cell_type": "markdown",
      "metadata": {
        "id": "view-in-github",
        "colab_type": "text"
      },
      "source": [
        "<a href=\"https://colab.research.google.com/github/ArthurRodrigues280213/Algoritmos-e-Prog/blob/main/Ol%C3%A1%2C_este_%C3%A9_o_Colaboratory.ipynb\" target=\"_parent\"><img src=\"https://colab.research.google.com/assets/colab-badge.svg\" alt=\"Open In Colab\"/></a>"
      ]
    },
    {
      "cell_type": "markdown",
      "source": [
        "EXERCÍCIO AULA 2 POLEGAS EM MM"
      ],
      "metadata": {
        "id": "iUMkHWhm_T7m"
      }
    },
    {
      "cell_type": "code",
      "source": [
        "P=float(input(\"Digite o valor em Polegadas\"))\n",
        "mm=float\n",
        "Calcularmm=25.4*P\n",
        "print(\"Seu valor em mm=\",Calcularmm)"
      ],
      "metadata": {
        "colab": {
          "base_uri": "https://localhost:8080/"
        },
        "id": "QnQynFsc-Mku",
        "outputId": "2e2f1b8c-7b2f-4ede-d94a-3efd05e8376b"
      },
      "execution_count": 2,
      "outputs": [
        {
          "output_type": "stream",
          "name": "stdout",
          "text": [
            "Digite o valor em Polegadas2\n",
            "Seu valor em mm= 50.8\n"
          ]
        }
      ]
    },
    {
      "cell_type": "markdown",
      "source": [
        "ESFERA/VOLUME\n"
      ],
      "metadata": {
        "id": "Mdklw3rk_jBY"
      }
    },
    {
      "cell_type": "code",
      "source": [
        "R=float(input(\"Digite o valor do raio em cm \"))\n",
        "v=4*3.14*R**3/3\n",
        "print(\"O volume da esfera é \",v,\"cm\")"
      ],
      "metadata": {
        "id": "qMDSBYHC_pn_",
        "outputId": "fd9611c9-5c59-4f40-9a94-bc694986c75f",
        "colab": {
          "base_uri": "https://localhost:8080/"
        }
      },
      "execution_count": 9,
      "outputs": [
        {
          "output_type": "stream",
          "name": "stdout",
          "text": [
            "Digite o valor do raio em cm 3\n",
            "O volume da esfera é  113.04 cm\n"
          ]
        }
      ]
    }
  ],
  "metadata": {
    "colab": {
      "name": "Olá, este é o Colaboratory",
      "toc_visible": true,
      "provenance": [],
      "include_colab_link": true
    },
    "kernelspec": {
      "display_name": "Python 3",
      "name": "python3"
    }
  },
  "nbformat": 4,
  "nbformat_minor": 0
}