{
  "cells": [
    {
      "cell_type": "markdown",
      "metadata": {
        "id": "view-in-github",
        "colab_type": "text"
      },
      "source": [
        "<a href=\"https://colab.research.google.com/github/ArthurRodrigues280213/Algoritmos-e-Prog/blob/main/Aula17/09.ipynb\" target=\"_parent\"><img src=\"https://colab.research.google.com/assets/colab-badge.svg\" alt=\"Open In Colab\"/></a>"
      ]
    },
    {
      "cell_type": "code",
      "source": [
        "#INICIO\n",
        "\n",
        "x=int(input(\"digite o valor de x \"))\n",
        "r=x%3\n",
        "if (r==0):\n",
        "   print(\"Múltiplo\")\n",
        "else:\n",
        "   print(\"Não é múltiplo\")\n",
        "\n"
      ],
      "metadata": {
        "id": "NsCUdFSuD7ME",
        "outputId": "040a990f-9c6b-44fb-91d5-340b894d06ff",
        "colab": {
          "base_uri": "https://localhost:8080/"
        }
      },
      "execution_count": 8,
      "outputs": [
        {
          "output_type": "stream",
          "name": "stdout",
          "text": [
            "digite o valor de x4\n",
            "Não é múltiplo\n"
          ]
        }
      ]
    },
    {
      "cell_type": "code",
      "source": [
        "\n",
        "nota_a = float(input(\"Digite a nota A: \"))\n",
        "nota_b = float(input(\"Digite a nota B: \"))\n",
        "\n",
        "peso_a = 4\n",
        "peso_b = 6\n",
        "\n",
        "media_ponderada = ((nota_a * peso_a) + (nota_b * peso_b)) / (peso_a + peso_b)\n",
        "\n",
        "if media_ponderada >= 5:\n",
        "  print(f\"Média: {media_ponderada:.2f} - Aprovado\")\n",
        "else:\n",
        "  print(f\"Média: {media_ponderada:.2f} - Reprovado\")\n"
      ],
      "metadata": {
        "id": "1blDImsMHdHD",
        "outputId": "cfcc5e37-66d7-4d6c-9c88-601e291f0c1e",
        "colab": {
          "base_uri": "https://localhost:8080/"
        }
      },
      "execution_count": 16,
      "outputs": [
        {
          "output_type": "stream",
          "name": "stdout",
          "text": [
            "Digite a nota A: 3\n",
            "Digite a nota B: 3\n",
            "Média: 3.00 - Reprovado\n"
          ]
        }
      ]
    },
    {
      "cell_type": "code",
      "source": [
        "a=float(input(\"digite o valor de a \"))\n",
        "b=float(input(\"digite o valor de b \"))\n",
        "c=float(input(\"digite o valor de c \"))\n",
        "if a<=b and a<=c:\n",
        "    print(\" A é o menor valor! \")\n",
        "elif b<=a and b<=c:\n",
        "    print(\" B é o menor valor! \")\n",
        "else:\n",
        "    print(\" C é o menor valor! \")"
      ],
      "metadata": {
        "id": "tAyZhc2aIbuq",
        "outputId": "24438070-0e4d-47bc-fba9-9ac35a5fe6da",
        "colab": {
          "base_uri": "https://localhost:8080/"
        }
      },
      "execution_count": 23,
      "outputs": [
        {
          "output_type": "stream",
          "name": "stdout",
          "text": [
            "digite o valor de a 3.14159127\n",
            "digite o valor de b 3.14159126\n",
            "digite o valor de c 3.14159128\n",
            " B é o menor valor! \n"
          ]
        }
      ]
    }
  ],
  "metadata": {
    "colab": {
      "name": "Olá, este é o Colaboratory",
      "toc_visible": true,
      "provenance": [],
      "include_colab_link": true
    },
    "kernelspec": {
      "display_name": "Python 3",
      "name": "python3"
    }
  },
  "nbformat": 4,
  "nbformat_minor": 0
}