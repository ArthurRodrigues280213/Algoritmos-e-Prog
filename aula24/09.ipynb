{
  "cells": [
    {
      "cell_type": "markdown",
      "metadata": {
        "id": "view-in-github",
        "colab_type": "text"
      },
      "source": [
        "<a href=\"https://colab.research.google.com/github/ArthurRodrigues280213/Algoritmos-e-Prog/blob/main/aula24/09.ipynb\" target=\"_parent\"><img src=\"https://colab.research.google.com/assets/colab-badge.svg\" alt=\"Open In Colab\"/></a>"
      ]
    },
    {
      "cell_type": "code",
      "source": [
        "while True:\n",
        "  resposta = input(\"Deseja relizar uma soma? (sim/não): \").lower()\n",
        "\n",
        "  if resposta == \"sim\":\n",
        "    num1 =  float(input(\"Digite o primeiro número: \"))\n",
        "    num2 =  float(input(\"Digite o segundo número: \"))\n",
        "    soma = num1 + num2\n",
        "    print(\"O resultado da soma é:\",soma)\n",
        "  else:\n",
        "    print(\"Obrigado por utilizar o programa\")\n",
        "    break\n",
        "\n"
      ],
      "metadata": {
        "id": "EcBHBlFFNGc7",
        "outputId": "91e038ff-2aea-4cc3-c365-b44819100f51",
        "colab": {
          "base_uri": "https://localhost:8080/"
        }
      },
      "execution_count": null,
      "outputs": [
        {
          "output_type": "stream",
          "name": "stdout",
          "text": [
            "Deseja relizar uma soma? (sim/não): sim\n",
            "Digite o primeiro número: 10\n",
            "Digite o segundo número: 2\n",
            "O resultado da soma é: 12.0\n"
          ]
        }
      ]
    },
    {
      "cell_type": "code",
      "source": [
        "i=0\n",
        "while i<6:\n",
        "  print (i)\n",
        "  i=i+1"
      ],
      "metadata": {
        "id": "6D0IigozLY0n",
        "outputId": "062c4f13-6516-4fd6-fe3c-f97f54da82eb",
        "colab": {
          "base_uri": "https://localhost:8080/"
        }
      },
      "execution_count": 9,
      "outputs": [
        {
          "output_type": "stream",
          "name": "stdout",
          "text": [
            "0\n",
            "1\n",
            "2\n",
            "3\n",
            "4\n",
            "5\n"
          ]
        }
      ]
    },
    {
      "cell_type": "code",
      "source": [
        "while True:\n",
        "  resposta = input"
      ],
      "metadata": {
        "id": "iP1wVcYUPz71"
      },
      "execution_count": null,
      "outputs": []
    }
  ],
  "metadata": {
    "colab": {
      "name": "Olá, este é o Colaboratory",
      "toc_visible": true,
      "provenance": [],
      "include_colab_link": true
    },
    "kernelspec": {
      "display_name": "Python 3",
      "name": "python3"
    }
  },
  "nbformat": 4,
  "nbformat_minor": 0
}